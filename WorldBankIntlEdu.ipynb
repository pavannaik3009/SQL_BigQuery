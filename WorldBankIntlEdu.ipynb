{
 "cells": [
  {
   "cell_type": "code",
   "execution_count": 1,
   "metadata": {},
   "outputs": [],
   "source": [
    "from google.cloud import bigquery"
   ]
  },
  {
   "cell_type": "code",
   "execution_count": 2,
   "metadata": {},
   "outputs": [],
   "source": [
    "import os\n",
    "os.environ[\"GOOGLE_APPLICATION_CREDENTIALS\"]=\"/Users/pavannaik/Desktop/API/sql-kaggle-244915-e2d3c0bfe87b.json\""
   ]
  },
  {
   "cell_type": "code",
   "execution_count": 3,
   "metadata": {},
   "outputs": [],
   "source": [
    "client = bigquery.Client()"
   ]
  },
  {
   "cell_type": "code",
   "execution_count": 4,
   "metadata": {},
   "outputs": [
    {
     "data": {
      "text/html": [
       "<div>\n",
       "<style scoped>\n",
       "    .dataframe tbody tr th:only-of-type {\n",
       "        vertical-align: middle;\n",
       "    }\n",
       "\n",
       "    .dataframe tbody tr th {\n",
       "        vertical-align: top;\n",
       "    }\n",
       "\n",
       "    .dataframe thead th {\n",
       "        text-align: right;\n",
       "    }\n",
       "</style>\n",
       "<table border=\"1\" class=\"dataframe\">\n",
       "  <thead>\n",
       "    <tr style=\"text-align: right;\">\n",
       "      <th></th>\n",
       "      <th>country_name</th>\n",
       "      <th>country_code</th>\n",
       "      <th>indicator_name</th>\n",
       "      <th>indicator_code</th>\n",
       "      <th>value</th>\n",
       "      <th>year</th>\n",
       "    </tr>\n",
       "  </thead>\n",
       "  <tbody>\n",
       "    <tr>\n",
       "      <th>0</th>\n",
       "      <td>East Asia &amp; Pacific</td>\n",
       "      <td>EAS</td>\n",
       "      <td>GNI per capita, Atlas method (current US$)</td>\n",
       "      <td>NY.GNP.PCAP.CD</td>\n",
       "      <td>9.857965e+03</td>\n",
       "      <td>2016</td>\n",
       "    </tr>\n",
       "    <tr>\n",
       "      <th>1</th>\n",
       "      <td>Euro area</td>\n",
       "      <td>EMU</td>\n",
       "      <td>GDP per capita, PPP (constant 2011 internation...</td>\n",
       "      <td>NY.GDP.PCAP.PP.KD</td>\n",
       "      <td>3.833465e+04</td>\n",
       "      <td>2016</td>\n",
       "    </tr>\n",
       "    <tr>\n",
       "      <th>2</th>\n",
       "      <td>Europe &amp; Central Asia (excluding high income)</td>\n",
       "      <td>ECA</td>\n",
       "      <td>GNI (current US$)</td>\n",
       "      <td>NY.GNP.MKTP.CD</td>\n",
       "      <td>2.920391e+12</td>\n",
       "      <td>2016</td>\n",
       "    </tr>\n",
       "    <tr>\n",
       "      <th>3</th>\n",
       "      <td>Least developed countries: UN classification</td>\n",
       "      <td>LDC</td>\n",
       "      <td>Population, ages 0-14, female</td>\n",
       "      <td>SP.POP.0014.FE.IN</td>\n",
       "      <td>1.928885e+08</td>\n",
       "      <td>2016</td>\n",
       "    </tr>\n",
       "    <tr>\n",
       "      <th>4</th>\n",
       "      <td>Middle East &amp; North Africa</td>\n",
       "      <td>MEA</td>\n",
       "      <td>GDP, PPP (current international $)</td>\n",
       "      <td>NY.GDP.MKTP.PP.CD</td>\n",
       "      <td>8.548505e+12</td>\n",
       "      <td>2016</td>\n",
       "    </tr>\n",
       "  </tbody>\n",
       "</table>\n",
       "</div>"
      ],
      "text/plain": [
       "                                    country_name country_code  \\\n",
       "0                            East Asia & Pacific          EAS   \n",
       "1                                      Euro area          EMU   \n",
       "2  Europe & Central Asia (excluding high income)          ECA   \n",
       "3   Least developed countries: UN classification          LDC   \n",
       "4                     Middle East & North Africa          MEA   \n",
       "\n",
       "                                      indicator_name     indicator_code  \\\n",
       "0         GNI per capita, Atlas method (current US$)     NY.GNP.PCAP.CD   \n",
       "1  GDP per capita, PPP (constant 2011 internation...  NY.GDP.PCAP.PP.KD   \n",
       "2                                  GNI (current US$)     NY.GNP.MKTP.CD   \n",
       "3                      Population, ages 0-14, female  SP.POP.0014.FE.IN   \n",
       "4                 GDP, PPP (current international $)  NY.GDP.MKTP.PP.CD   \n",
       "\n",
       "          value  year  \n",
       "0  9.857965e+03  2016  \n",
       "1  3.833465e+04  2016  \n",
       "2  2.920391e+12  2016  \n",
       "3  1.928885e+08  2016  \n",
       "4  8.548505e+12  2016  "
      ]
     },
     "execution_count": 4,
     "metadata": {},
     "output_type": "execute_result"
    }
   ],
   "source": [
    "dataset_ref = client.dataset(\"world_bank_intl_education\", project=\"bigquery-public-data\")\n",
    "dataset = client.get_dataset(dataset_ref)\n",
    "table_ref = dataset_ref.table(\"international_education\")\n",
    "table = client.get_table(table_ref)\n",
    "client.list_rows(table, max_results=5).to_dataframe()"
   ]
  },
  {
   "cell_type": "markdown",
   "metadata": {},
   "source": [
    "Government expenditure on Education"
   ]
  },
  {
   "cell_type": "code",
   "execution_count": 5,
   "metadata": {},
   "outputs": [
    {
     "name": "stdout",
     "output_type": "stream",
     "text": [
      "            country_name  avg_ed_spending_pct\n",
      "0                   Cuba            12.837270\n",
      "1  Micronesia, Fed. Sts.            12.467750\n",
      "2        Solomon Islands            10.001080\n",
      "3                Moldova             8.372153\n",
      "4                Namibia             8.349610\n"
     ]
    }
   ],
   "source": [
    "country_spend_pct_query = \"\"\"\n",
    "                          SELECT country_name, AVG(value) as avg_ed_spending_pct\n",
    "                          FROM `bigquery-public-data.world_bank_intl_education.international_education`\n",
    "                          WHERE indicator_code = \"SE.XPD.TOTL.GD.ZS\" AND year>=2010 AND year<= 2017\n",
    "                          GROUP BY country_name\n",
    "                          ORDER BY avg_ed_spending_pct DESC\n",
    "                          \"\"\"\n",
    "\n",
    "# Set up the query (cancel the query if it would use too much of \n",
    "# your quota, with the limit set to 1 GB)\n",
    "safe_config = bigquery.QueryJobConfig(maximum_bytes_billed=10**10)\n",
    "country_spend_pct_query_job = client.query(country_spend_pct_query, job_config=safe_config)\n",
    "\n",
    "# API request - run the query, and return a pandas DataFrame\n",
    "country_spending_results = country_spend_pct_query_job.to_dataframe()\n",
    "\n",
    "# View top few rows of results\n",
    "print(country_spending_results.head())"
   ]
  },
  {
   "cell_type": "code",
   "execution_count": 6,
   "metadata": {},
   "outputs": [
    {
     "name": "stdout",
     "output_type": "stream",
     "text": [
      "                    indicator_name     indicator_code  num_rows\n",
      "0                Population, total        SP.POP.TOTL       232\n",
      "1     Population growth (annual %)        SP.POP.GROW       232\n",
      "2  Internet users (per 100 people)     IT.NET.USER.P2       223\n",
      "3    Population, ages 0-14, female  SP.POP.0014.FE.IN       213\n",
      "4     Population, ages 0-14, total     SP.POP.0014.TO       213\n"
     ]
    }
   ],
   "source": [
    "\n",
    "code_count_query = \"\"\"SELECT indicator_name, indicator_code, COUNT(indicator_code) as num_rows\n",
    "FROM `bigquery-public-data.world_bank_intl_education.international_education`\n",
    "WHERE year = 2016\n",
    "GROUP BY indicator_code, indicator_name\n",
    "HAVING COUNT(indicator_code) >= 175 \n",
    "ORDER BY num_rows DESC\n",
    "\"\"\"\n",
    "\n",
    "safe_config = bigquery.QueryJobConfig(maximum_bytes_billed=10**10)\n",
    "code_count_query_job = client.query(code_count_query, job_config=safe_config)\n",
    "\n",
    "\n",
    "code_count_results = code_count_query_job.to_dataframe()\n",
    "\n",
    "\n",
    "print(code_count_results.head())"
   ]
  },
  {
   "cell_type": "code",
   "execution_count": null,
   "metadata": {},
   "outputs": [],
   "source": []
  }
 ],
 "metadata": {
  "kernelspec": {
   "display_name": "Python 3",
   "language": "python",
   "name": "python3"
  },
  "language_info": {
   "codemirror_mode": {
    "name": "ipython",
    "version": 3
   },
   "file_extension": ".py",
   "mimetype": "text/x-python",
   "name": "python",
   "nbconvert_exporter": "python",
   "pygments_lexer": "ipython3",
   "version": "3.6.8"
  }
 },
 "nbformat": 4,
 "nbformat_minor": 2
}
