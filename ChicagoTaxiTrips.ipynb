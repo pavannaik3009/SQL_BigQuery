{
 "cells": [
  {
   "cell_type": "code",
   "execution_count": 1,
   "metadata": {},
   "outputs": [],
   "source": [
    "from google.cloud import bigquery"
   ]
  },
  {
   "cell_type": "code",
   "execution_count": 2,
   "metadata": {},
   "outputs": [],
   "source": [
    "import os\n",
    "os.environ[\"GOOGLE_APPLICATION_CREDENTIALS\"]=\"/Users/pavannaik/Desktop/API/sql-kaggle-244915-e2d3c0bfe87b.json\""
   ]
  },
  {
   "cell_type": "code",
   "execution_count": 3,
   "metadata": {},
   "outputs": [],
   "source": [
    "client = bigquery.Client()"
   ]
  },
  {
   "cell_type": "code",
   "execution_count": 4,
   "metadata": {},
   "outputs": [],
   "source": [
    "dataset_ref = client.dataset(\"chicago_taxi_trips\", project=\"bigquery-public-data\")"
   ]
  },
  {
   "cell_type": "code",
   "execution_count": 5,
   "metadata": {},
   "outputs": [],
   "source": [
    "dataset = client.get_dataset(dataset_ref)"
   ]
  },
  {
   "cell_type": "code",
   "execution_count": 6,
   "metadata": {},
   "outputs": [
    {
     "name": "stdout",
     "output_type": "stream",
     "text": [
      "taxi_trips\n"
     ]
    }
   ],
   "source": [
    "tables = list(client.list_tables(dataset))\n",
    "for table in tables:\n",
    "    print(table.table_id)"
   ]
  },
  {
   "cell_type": "code",
   "execution_count": 7,
   "metadata": {},
   "outputs": [],
   "source": [
    "table_ref = dataset_ref.table(\"taxi_trips\")"
   ]
  },
  {
   "cell_type": "code",
   "execution_count": 8,
   "metadata": {},
   "outputs": [],
   "source": [
    "table = client.get_table(table_ref)"
   ]
  },
  {
   "cell_type": "code",
   "execution_count": 9,
   "metadata": {},
   "outputs": [
    {
     "data": {
      "text/html": [
       "<div>\n",
       "<style scoped>\n",
       "    .dataframe tbody tr th:only-of-type {\n",
       "        vertical-align: middle;\n",
       "    }\n",
       "\n",
       "    .dataframe tbody tr th {\n",
       "        vertical-align: top;\n",
       "    }\n",
       "\n",
       "    .dataframe thead th {\n",
       "        text-align: right;\n",
       "    }\n",
       "</style>\n",
       "<table border=\"1\" class=\"dataframe\">\n",
       "  <thead>\n",
       "    <tr style=\"text-align: right;\">\n",
       "      <th></th>\n",
       "      <th>unique_key</th>\n",
       "      <th>taxi_id</th>\n",
       "      <th>trip_start_timestamp</th>\n",
       "      <th>trip_end_timestamp</th>\n",
       "      <th>trip_seconds</th>\n",
       "      <th>trip_miles</th>\n",
       "      <th>pickup_census_tract</th>\n",
       "      <th>dropoff_census_tract</th>\n",
       "      <th>pickup_community_area</th>\n",
       "      <th>dropoff_community_area</th>\n",
       "      <th>...</th>\n",
       "      <th>extras</th>\n",
       "      <th>trip_total</th>\n",
       "      <th>payment_type</th>\n",
       "      <th>company</th>\n",
       "      <th>pickup_latitude</th>\n",
       "      <th>pickup_longitude</th>\n",
       "      <th>pickup_location</th>\n",
       "      <th>dropoff_latitude</th>\n",
       "      <th>dropoff_longitude</th>\n",
       "      <th>dropoff_location</th>\n",
       "    </tr>\n",
       "  </thead>\n",
       "  <tbody>\n",
       "    <tr>\n",
       "      <th>0</th>\n",
       "      <td>51e9ac7992f73fe611a658196e8bdedc309c6a9c</td>\n",
       "      <td>148b56c4e0be7f03cac1f44bfd98d7d7cd18b9935d644a...</td>\n",
       "      <td>2013-04-07 17:00:00+00:00</td>\n",
       "      <td>2013-04-07 17:00:00+00:00</td>\n",
       "      <td>None</td>\n",
       "      <td>0.0</td>\n",
       "      <td>None</td>\n",
       "      <td>None</td>\n",
       "      <td>None</td>\n",
       "      <td>None</td>\n",
       "      <td>...</td>\n",
       "      <td>0.0</td>\n",
       "      <td>46.86</td>\n",
       "      <td>Credit Card</td>\n",
       "      <td>Chicago Elite Cab Corp.</td>\n",
       "      <td>None</td>\n",
       "      <td>None</td>\n",
       "      <td>None</td>\n",
       "      <td>None</td>\n",
       "      <td>None</td>\n",
       "      <td>None</td>\n",
       "    </tr>\n",
       "    <tr>\n",
       "      <th>1</th>\n",
       "      <td>cc1557aa4739cdd8fd2a835b6a5c721bb55387c0</td>\n",
       "      <td>b2b9295effcd71dadf837c7801fd3b8a285f5bdefffb18...</td>\n",
       "      <td>2013-04-07 17:00:00+00:00</td>\n",
       "      <td>2013-04-07 16:45:00+00:00</td>\n",
       "      <td>None</td>\n",
       "      <td>0.0</td>\n",
       "      <td>None</td>\n",
       "      <td>None</td>\n",
       "      <td>None</td>\n",
       "      <td>None</td>\n",
       "      <td>...</td>\n",
       "      <td>0.0</td>\n",
       "      <td>44.22</td>\n",
       "      <td>Credit Card</td>\n",
       "      <td>Chicago Elite Cab Corp.</td>\n",
       "      <td>None</td>\n",
       "      <td>None</td>\n",
       "      <td>None</td>\n",
       "      <td>None</td>\n",
       "      <td>None</td>\n",
       "      <td>None</td>\n",
       "    </tr>\n",
       "    <tr>\n",
       "      <th>2</th>\n",
       "      <td>0777b61b1d52643224b21afb9bac3d6f0dbc26fd</td>\n",
       "      <td>92c7e4860654a8a87e459b0471572be4266569e48af141...</td>\n",
       "      <td>2013-04-07 14:45:00+00:00</td>\n",
       "      <td>2013-04-07 14:30:00+00:00</td>\n",
       "      <td>None</td>\n",
       "      <td>0.0</td>\n",
       "      <td>None</td>\n",
       "      <td>None</td>\n",
       "      <td>None</td>\n",
       "      <td>None</td>\n",
       "      <td>...</td>\n",
       "      <td>0.0</td>\n",
       "      <td>11.34</td>\n",
       "      <td>Credit Card</td>\n",
       "      <td>Chicago Elite Cab Corp.</td>\n",
       "      <td>None</td>\n",
       "      <td>None</td>\n",
       "      <td>None</td>\n",
       "      <td>None</td>\n",
       "      <td>None</td>\n",
       "      <td>None</td>\n",
       "    </tr>\n",
       "    <tr>\n",
       "      <th>3</th>\n",
       "      <td>a0d5f5a0306f3ee3f68e18a88eefff8add909a3b</td>\n",
       "      <td>1ab1d8e0fd730376b1bfaf30fadc2901ba10f5ea75a225...</td>\n",
       "      <td>2013-04-20 18:45:00+00:00</td>\n",
       "      <td>2013-04-20 18:45:00+00:00</td>\n",
       "      <td>None</td>\n",
       "      <td>0.0</td>\n",
       "      <td>None</td>\n",
       "      <td>None</td>\n",
       "      <td>None</td>\n",
       "      <td>None</td>\n",
       "      <td>...</td>\n",
       "      <td>0.0</td>\n",
       "      <td>10.50</td>\n",
       "      <td>Credit Card</td>\n",
       "      <td>Chicago Elite Cab Corp.</td>\n",
       "      <td>None</td>\n",
       "      <td>None</td>\n",
       "      <td>None</td>\n",
       "      <td>None</td>\n",
       "      <td>None</td>\n",
       "      <td>None</td>\n",
       "    </tr>\n",
       "    <tr>\n",
       "      <th>4</th>\n",
       "      <td>02fe736a5c738a58a88fc2fa7ec10ad3f7f979c0</td>\n",
       "      <td>bda6f18f96bd0d6b78f228e56d927386d5b2f5646088d3...</td>\n",
       "      <td>2013-03-30 02:15:00+00:00</td>\n",
       "      <td>2013-03-30 02:15:00+00:00</td>\n",
       "      <td>None</td>\n",
       "      <td>0.0</td>\n",
       "      <td>None</td>\n",
       "      <td>None</td>\n",
       "      <td>None</td>\n",
       "      <td>None</td>\n",
       "      <td>...</td>\n",
       "      <td>0.0</td>\n",
       "      <td>20.09</td>\n",
       "      <td>Credit Card</td>\n",
       "      <td>Chicago Elite Cab Corp.</td>\n",
       "      <td>None</td>\n",
       "      <td>None</td>\n",
       "      <td>None</td>\n",
       "      <td>None</td>\n",
       "      <td>None</td>\n",
       "      <td>None</td>\n",
       "    </tr>\n",
       "  </tbody>\n",
       "</table>\n",
       "<p>5 rows × 23 columns</p>\n",
       "</div>"
      ],
      "text/plain": [
       "                                 unique_key  \\\n",
       "0  51e9ac7992f73fe611a658196e8bdedc309c6a9c   \n",
       "1  cc1557aa4739cdd8fd2a835b6a5c721bb55387c0   \n",
       "2  0777b61b1d52643224b21afb9bac3d6f0dbc26fd   \n",
       "3  a0d5f5a0306f3ee3f68e18a88eefff8add909a3b   \n",
       "4  02fe736a5c738a58a88fc2fa7ec10ad3f7f979c0   \n",
       "\n",
       "                                             taxi_id  \\\n",
       "0  148b56c4e0be7f03cac1f44bfd98d7d7cd18b9935d644a...   \n",
       "1  b2b9295effcd71dadf837c7801fd3b8a285f5bdefffb18...   \n",
       "2  92c7e4860654a8a87e459b0471572be4266569e48af141...   \n",
       "3  1ab1d8e0fd730376b1bfaf30fadc2901ba10f5ea75a225...   \n",
       "4  bda6f18f96bd0d6b78f228e56d927386d5b2f5646088d3...   \n",
       "\n",
       "       trip_start_timestamp        trip_end_timestamp trip_seconds  \\\n",
       "0 2013-04-07 17:00:00+00:00 2013-04-07 17:00:00+00:00         None   \n",
       "1 2013-04-07 17:00:00+00:00 2013-04-07 16:45:00+00:00         None   \n",
       "2 2013-04-07 14:45:00+00:00 2013-04-07 14:30:00+00:00         None   \n",
       "3 2013-04-20 18:45:00+00:00 2013-04-20 18:45:00+00:00         None   \n",
       "4 2013-03-30 02:15:00+00:00 2013-03-30 02:15:00+00:00         None   \n",
       "\n",
       "   trip_miles pickup_census_tract dropoff_census_tract pickup_community_area  \\\n",
       "0         0.0                None                 None                  None   \n",
       "1         0.0                None                 None                  None   \n",
       "2         0.0                None                 None                  None   \n",
       "3         0.0                None                 None                  None   \n",
       "4         0.0                None                 None                  None   \n",
       "\n",
       "  dropoff_community_area  ...  extras  trip_total  payment_type  \\\n",
       "0                   None  ...     0.0       46.86   Credit Card   \n",
       "1                   None  ...     0.0       44.22   Credit Card   \n",
       "2                   None  ...     0.0       11.34   Credit Card   \n",
       "3                   None  ...     0.0       10.50   Credit Card   \n",
       "4                   None  ...     0.0       20.09   Credit Card   \n",
       "\n",
       "                   company  pickup_latitude pickup_longitude pickup_location  \\\n",
       "0  Chicago Elite Cab Corp.             None             None            None   \n",
       "1  Chicago Elite Cab Corp.             None             None            None   \n",
       "2  Chicago Elite Cab Corp.             None             None            None   \n",
       "3  Chicago Elite Cab Corp.             None             None            None   \n",
       "4  Chicago Elite Cab Corp.             None             None            None   \n",
       "\n",
       "  dropoff_latitude dropoff_longitude dropoff_location  \n",
       "0             None              None             None  \n",
       "1             None              None             None  \n",
       "2             None              None             None  \n",
       "3             None              None             None  \n",
       "4             None              None             None  \n",
       "\n",
       "[5 rows x 23 columns]"
      ]
     },
     "execution_count": 9,
     "metadata": {},
     "output_type": "execute_result"
    }
   ],
   "source": [
    "client.list_rows(table, max_results=5).to_dataframe()"
   ]
  },
  {
   "cell_type": "code",
   "execution_count": 10,
   "metadata": {},
   "outputs": [],
   "source": [
    "rides_per_year_query = \"\"\"SELECT COUNT(1) AS num_trips, EXTRACT(YEAR FROM trip_start_timestamp) AS year\n",
    "FROM `bigquery-public-data.chicago_taxi_trips.taxi_trips`\n",
    "GROUP BY year\n",
    "ORDER BY year\"\"\""
   ]
  },
  {
   "cell_type": "code",
   "execution_count": 11,
   "metadata": {},
   "outputs": [
    {
     "name": "stdout",
     "output_type": "stream",
     "text": [
      "   num_trips  year\n",
      "0   27217716  2013\n",
      "1   37395436  2014\n",
      "2   32385875  2015\n",
      "3   31759339  2016\n",
      "4   24988003  2017\n",
      "5   20732088  2018\n",
      "6    9843414  2019\n"
     ]
    }
   ],
   "source": [
    "safe_config = bigquery.QueryJobConfig(maximum_bytes_billed=10**10)\n",
    "rides_per_year_query_job = client.query(rides_per_year_query, job_config=safe_config)\n",
    "rides_per_year_result = rides_per_year_query_job.to_dataframe()\n",
    "print(rides_per_year_result)"
   ]
  },
  {
   "cell_type": "code",
   "execution_count": 43,
   "metadata": {},
   "outputs": [],
   "source": [
    "rides_per_month_query = \"\"\"SELECT EXTRACT(MONTH FROM trip_start_timestamp) AS month, COUNT(1) AS num_trips\n",
    "FROM `bigquery-public-data.chicago_taxi_trips.taxi_trips`\n",
    "WHERE EXTRACT(YEAR FROM trip_start_timestamp) = 2017\n",
    "GROUP BY month\n",
    "ORDER BY month\"\"\""
   ]
  },
  {
   "cell_type": "code",
   "execution_count": 44,
   "metadata": {},
   "outputs": [
    {
     "name": "stdout",
     "output_type": "stream",
     "text": [
      "    month  num_trips\n",
      "0       1    1972071\n",
      "1       2    1909802\n",
      "2       3    2362105\n",
      "3       4    2194702\n",
      "4       5    2323386\n",
      "5       6    2324472\n",
      "6       7    2054299\n",
      "7       8    2079861\n",
      "8       9    1950631\n",
      "9      10    2141197\n",
      "10     11    1907997\n",
      "11     12    1767480\n"
     ]
    }
   ],
   "source": [
    "safe_config = bigquery.QueryJobConfig(maximum_bytes_billed=10**10)\n",
    "rides_per_month_query_job = client.query(rides_per_month_query, job_config=safe_config)\n",
    "rides_per_month_result= rides_per_month_query_job.to_dataframe()\n",
    "print(rides_per_month_result)\n"
   ]
  },
  {
   "cell_type": "code",
   "execution_count": 51,
   "metadata": {},
   "outputs": [
    {
     "name": "stdout",
     "output_type": "stream",
     "text": [
      "    hour_of_day  num_trips    avg_mph\n",
      "0             0     319339  20.230524\n",
      "1             1     266529  18.937621\n",
      "2             2     210147  18.777070\n",
      "3             3     159668  20.158048\n",
      "4             4     122183  26.736014\n",
      "5             5     119312  30.769172\n",
      "6             6     182738  24.588313\n",
      "7             7     358406  17.735967\n",
      "8             8     541775  15.079892\n",
      "9             9     565548  16.543882\n",
      "10           10     525120  18.539614\n",
      "11           11     594603  18.928379\n",
      "12           12     622324  17.838745\n",
      "13           13     630181  17.671089\n",
      "14           14     622465  16.974239\n",
      "15           15     640430  15.688418\n",
      "16           16     701435  14.283888\n",
      "17           17     756627  12.462955\n",
      "18           18     768251  13.646810\n",
      "19           19     701064  16.642882\n",
      "20           20     598614  19.536777\n",
      "21           21     552726  20.433874\n",
      "22           22     501095  19.531374\n",
      "23           23     399587  19.877046\n"
     ]
    }
   ],
   "source": [
    "speeds_query = \"\"\"\n",
    "               WITH RelevantRides AS\n",
    "               (\n",
    "                   SELECT EXTRACT(HOUR FROM trip_start_timestamp) AS hour_of_day, trip_miles, trip_seconds\n",
    "                   FROM `bigquery-public-data.chicago_taxi_trips.taxi_trips`\n",
    "                   WHERE trip_start_timestamp > '2017-01-01' AND trip_start_timestamp < '2017-07-01' AND trip_miles > 0 AND trip_seconds > 0\n",
    "               )\n",
    "               SELECT hour_of_day, COUNT(1) AS num_trips, 3600 * SUM(trip_miles) / SUM(trip_seconds) AS avg_mph\n",
    "               FROM RelevantRides\n",
    "               GROUP BY hour_of_day\n",
    "               ORDER BY hour_of_Day\n",
    "               \"\"\"\n",
    "\n",
    "safe_config = bigquery.QueryJobConfig(maximum_bytes_billed=10**10)\n",
    "speeds_query_job = client.query(speeds_query, job_config=safe_config)\n",
    "\n",
    "\n",
    "speeds_result = speeds_query_job.to_dataframe()\n",
    "\n",
    "print(speeds_result)"
   ]
  },
  {
   "cell_type": "code",
   "execution_count": null,
   "metadata": {},
   "outputs": [],
   "source": []
  }
 ],
 "metadata": {
  "kernelspec": {
   "display_name": "Python 3",
   "language": "python",
   "name": "python3"
  },
  "language_info": {
   "codemirror_mode": {
    "name": "ipython",
    "version": 3
   },
   "file_extension": ".py",
   "mimetype": "text/x-python",
   "name": "python",
   "nbconvert_exporter": "python",
   "pygments_lexer": "ipython3",
   "version": "3.6.8"
  }
 },
 "nbformat": 4,
 "nbformat_minor": 2
}
