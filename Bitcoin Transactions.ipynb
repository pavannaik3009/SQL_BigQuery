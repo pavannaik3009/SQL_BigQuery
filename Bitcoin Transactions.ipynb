{
 "cells": [
  {
   "cell_type": "code",
   "execution_count": 1,
   "metadata": {},
   "outputs": [],
   "source": [
    "from google.cloud import bigquery"
   ]
  },
  {
   "cell_type": "code",
   "execution_count": 6,
   "metadata": {},
   "outputs": [],
   "source": [
    "import os\n",
    "os.environ[\"GOOGLE_APPLICATION_CREDENTIALS\"]=\"/Users/pavannaik/Desktop/API/sql-kaggle-244915-e2d3c0bfe87b.json\""
   ]
  },
  {
   "cell_type": "code",
   "execution_count": 7,
   "metadata": {},
   "outputs": [],
   "source": [
    "client = bigquery.Client()"
   ]
  },
  {
   "cell_type": "code",
   "execution_count": 8,
   "metadata": {},
   "outputs": [],
   "source": [
    "dataset_ref = client.dataset(\"crypto_bitcoin\", project=\"bigquery-public-data\")"
   ]
  },
  {
   "cell_type": "code",
   "execution_count": 9,
   "metadata": {},
   "outputs": [],
   "source": [
    "dataset = client.get_dataset(dataset_ref)"
   ]
  },
  {
   "cell_type": "code",
   "execution_count": 10,
   "metadata": {},
   "outputs": [],
   "source": [
    "table_ref = dataset_ref.table(\"transactions\")"
   ]
  },
  {
   "cell_type": "code",
   "execution_count": 11,
   "metadata": {},
   "outputs": [],
   "source": [
    "table = client.get_table(table_ref)"
   ]
  },
  {
   "cell_type": "code",
   "execution_count": 12,
   "metadata": {},
   "outputs": [
    {
     "data": {
      "text/html": [
       "<div>\n",
       "<style scoped>\n",
       "    .dataframe tbody tr th:only-of-type {\n",
       "        vertical-align: middle;\n",
       "    }\n",
       "\n",
       "    .dataframe tbody tr th {\n",
       "        vertical-align: top;\n",
       "    }\n",
       "\n",
       "    .dataframe thead th {\n",
       "        text-align: right;\n",
       "    }\n",
       "</style>\n",
       "<table border=\"1\" class=\"dataframe\">\n",
       "  <thead>\n",
       "    <tr style=\"text-align: right;\">\n",
       "      <th></th>\n",
       "      <th>hash</th>\n",
       "      <th>size</th>\n",
       "      <th>virtual_size</th>\n",
       "      <th>version</th>\n",
       "      <th>lock_time</th>\n",
       "      <th>block_hash</th>\n",
       "      <th>block_number</th>\n",
       "      <th>block_timestamp</th>\n",
       "      <th>block_timestamp_month</th>\n",
       "      <th>input_count</th>\n",
       "      <th>output_count</th>\n",
       "      <th>input_value</th>\n",
       "      <th>output_value</th>\n",
       "      <th>is_coinbase</th>\n",
       "      <th>fee</th>\n",
       "      <th>inputs</th>\n",
       "      <th>outputs</th>\n",
       "    </tr>\n",
       "  </thead>\n",
       "  <tbody>\n",
       "    <tr>\n",
       "      <th>0</th>\n",
       "      <td>aaac8b454e079237b8509c422b8a0ebd95e3eca5944b95...</td>\n",
       "      <td>137</td>\n",
       "      <td>137</td>\n",
       "      <td>1</td>\n",
       "      <td>0</td>\n",
       "      <td>000000000000000000d6cdda66edb65e8969566ca65fe3...</td>\n",
       "      <td>484015</td>\n",
       "      <td>2017-09-07 13:43:30+00:00</td>\n",
       "      <td>2017-09-01</td>\n",
       "      <td>0</td>\n",
       "      <td>1</td>\n",
       "      <td>None</td>\n",
       "      <td>1266641901</td>\n",
       "      <td>True</td>\n",
       "      <td>0</td>\n",
       "      <td>[]</td>\n",
       "      <td>[{'index': 0, 'script_asm': 'OP_DUP OP_HASH160...</td>\n",
       "    </tr>\n",
       "    <tr>\n",
       "      <th>1</th>\n",
       "      <td>8505c4277a8da0450cb6fd345b409a87218e09987c7e92...</td>\n",
       "      <td>193</td>\n",
       "      <td>166</td>\n",
       "      <td>1</td>\n",
       "      <td>0</td>\n",
       "      <td>000000000000000000427219aa8b931acb167f582e9b9c...</td>\n",
       "      <td>485083</td>\n",
       "      <td>2017-09-13 19:30:26+00:00</td>\n",
       "      <td>2017-09-01</td>\n",
       "      <td>0</td>\n",
       "      <td>2</td>\n",
       "      <td>None</td>\n",
       "      <td>1367011480</td>\n",
       "      <td>True</td>\n",
       "      <td>0</td>\n",
       "      <td>[]</td>\n",
       "      <td>[{'index': 0, 'script_asm': 'OP_HASH160 6dffc0...</td>\n",
       "    </tr>\n",
       "    <tr>\n",
       "      <th>2</th>\n",
       "      <td>d1a2060a08e8cd54480de8a0aac761b8667c175a7de08e...</td>\n",
       "      <td>213</td>\n",
       "      <td>186</td>\n",
       "      <td>1</td>\n",
       "      <td>0</td>\n",
       "      <td>000000000000000000d5ed15beb3085719e8f1b95f2924...</td>\n",
       "      <td>485005</td>\n",
       "      <td>2017-09-13 10:25:46+00:00</td>\n",
       "      <td>2017-09-01</td>\n",
       "      <td>0</td>\n",
       "      <td>2</td>\n",
       "      <td>None</td>\n",
       "      <td>1255484937</td>\n",
       "      <td>True</td>\n",
       "      <td>0</td>\n",
       "      <td>[]</td>\n",
       "      <td>[{'index': 0, 'script_asm': 'OP_DUP OP_HASH160...</td>\n",
       "    </tr>\n",
       "    <tr>\n",
       "      <th>3</th>\n",
       "      <td>2fba35aaba056d4028d512c0fb134ff41d2d5c504fc7a1...</td>\n",
       "      <td>213</td>\n",
       "      <td>186</td>\n",
       "      <td>1</td>\n",
       "      <td>0</td>\n",
       "      <td>0000000000000000009fd230518a5b3d50ebcd5120a844...</td>\n",
       "      <td>486934</td>\n",
       "      <td>2017-09-25 17:28:19+00:00</td>\n",
       "      <td>2017-09-01</td>\n",
       "      <td>0</td>\n",
       "      <td>2</td>\n",
       "      <td>None</td>\n",
       "      <td>1431309437</td>\n",
       "      <td>True</td>\n",
       "      <td>0</td>\n",
       "      <td>[]</td>\n",
       "      <td>[{'index': 0, 'script_asm': 'OP_DUP OP_HASH160...</td>\n",
       "    </tr>\n",
       "    <tr>\n",
       "      <th>4</th>\n",
       "      <td>630af30aa1ade3de86df071d35b6eb28e0590cf7e0bcaa...</td>\n",
       "      <td>217</td>\n",
       "      <td>190</td>\n",
       "      <td>1</td>\n",
       "      <td>0</td>\n",
       "      <td>000000000000000000841e1fa84e8e5abdfa000936524c...</td>\n",
       "      <td>483854</td>\n",
       "      <td>2017-09-06 16:06:09+00:00</td>\n",
       "      <td>2017-09-01</td>\n",
       "      <td>0</td>\n",
       "      <td>2</td>\n",
       "      <td>None</td>\n",
       "      <td>1530785512</td>\n",
       "      <td>True</td>\n",
       "      <td>0</td>\n",
       "      <td>[]</td>\n",
       "      <td>[{'index': 0, 'script_asm': 'OP_DUP OP_HASH160...</td>\n",
       "    </tr>\n",
       "  </tbody>\n",
       "</table>\n",
       "</div>"
      ],
      "text/plain": [
       "                                                hash  size  virtual_size  \\\n",
       "0  aaac8b454e079237b8509c422b8a0ebd95e3eca5944b95...   137           137   \n",
       "1  8505c4277a8da0450cb6fd345b409a87218e09987c7e92...   193           166   \n",
       "2  d1a2060a08e8cd54480de8a0aac761b8667c175a7de08e...   213           186   \n",
       "3  2fba35aaba056d4028d512c0fb134ff41d2d5c504fc7a1...   213           186   \n",
       "4  630af30aa1ade3de86df071d35b6eb28e0590cf7e0bcaa...   217           190   \n",
       "\n",
       "   version  lock_time                                         block_hash  \\\n",
       "0        1          0  000000000000000000d6cdda66edb65e8969566ca65fe3...   \n",
       "1        1          0  000000000000000000427219aa8b931acb167f582e9b9c...   \n",
       "2        1          0  000000000000000000d5ed15beb3085719e8f1b95f2924...   \n",
       "3        1          0  0000000000000000009fd230518a5b3d50ebcd5120a844...   \n",
       "4        1          0  000000000000000000841e1fa84e8e5abdfa000936524c...   \n",
       "\n",
       "   block_number           block_timestamp block_timestamp_month  input_count  \\\n",
       "0        484015 2017-09-07 13:43:30+00:00            2017-09-01            0   \n",
       "1        485083 2017-09-13 19:30:26+00:00            2017-09-01            0   \n",
       "2        485005 2017-09-13 10:25:46+00:00            2017-09-01            0   \n",
       "3        486934 2017-09-25 17:28:19+00:00            2017-09-01            0   \n",
       "4        483854 2017-09-06 16:06:09+00:00            2017-09-01            0   \n",
       "\n",
       "   output_count input_value output_value  is_coinbase fee inputs  \\\n",
       "0             1        None   1266641901         True   0     []   \n",
       "1             2        None   1367011480         True   0     []   \n",
       "2             2        None   1255484937         True   0     []   \n",
       "3             2        None   1431309437         True   0     []   \n",
       "4             2        None   1530785512         True   0     []   \n",
       "\n",
       "                                             outputs  \n",
       "0  [{'index': 0, 'script_asm': 'OP_DUP OP_HASH160...  \n",
       "1  [{'index': 0, 'script_asm': 'OP_HASH160 6dffc0...  \n",
       "2  [{'index': 0, 'script_asm': 'OP_DUP OP_HASH160...  \n",
       "3  [{'index': 0, 'script_asm': 'OP_DUP OP_HASH160...  \n",
       "4  [{'index': 0, 'script_asm': 'OP_DUP OP_HASH160...  "
      ]
     },
     "execution_count": 12,
     "metadata": {},
     "output_type": "execute_result"
    }
   ],
   "source": [
    "client.list_rows(table, max_results=5).to_dataframe()"
   ]
  },
  {
   "cell_type": "code",
   "execution_count": 21,
   "metadata": {},
   "outputs": [],
   "source": [
    "# Query to select the number of transactions per date, sorted by date\n",
    "query_with_CTE = \"\"\"\n",
    "WITH time AS\n",
    "(\n",
    "    SELECT DATE(block_timestamp) AS trans_date\n",
    "    FROM `bigquery-public-data.crypto_bitcoin.transactions`\n",
    ")\n",
    "SELECT COUNT(1) AS transactions, trans_date\n",
    "FROM time\n",
    "GROUP BY trans_date\n",
    "ORDER BY trans_date \n",
    "\"\"\""
   ]
  },
  {
   "cell_type": "code",
   "execution_count": 22,
   "metadata": {},
   "outputs": [
    {
     "data": {
      "text/html": [
       "<div>\n",
       "<style scoped>\n",
       "    .dataframe tbody tr th:only-of-type {\n",
       "        vertical-align: middle;\n",
       "    }\n",
       "\n",
       "    .dataframe tbody tr th {\n",
       "        vertical-align: top;\n",
       "    }\n",
       "\n",
       "    .dataframe thead th {\n",
       "        text-align: right;\n",
       "    }\n",
       "</style>\n",
       "<table border=\"1\" class=\"dataframe\">\n",
       "  <thead>\n",
       "    <tr style=\"text-align: right;\">\n",
       "      <th></th>\n",
       "      <th>transactions</th>\n",
       "      <th>trans_date</th>\n",
       "    </tr>\n",
       "  </thead>\n",
       "  <tbody>\n",
       "    <tr>\n",
       "      <th>0</th>\n",
       "      <td>1</td>\n",
       "      <td>2009-01-03</td>\n",
       "    </tr>\n",
       "    <tr>\n",
       "      <th>1</th>\n",
       "      <td>14</td>\n",
       "      <td>2009-01-09</td>\n",
       "    </tr>\n",
       "    <tr>\n",
       "      <th>2</th>\n",
       "      <td>61</td>\n",
       "      <td>2009-01-10</td>\n",
       "    </tr>\n",
       "    <tr>\n",
       "      <th>3</th>\n",
       "      <td>93</td>\n",
       "      <td>2009-01-11</td>\n",
       "    </tr>\n",
       "    <tr>\n",
       "      <th>4</th>\n",
       "      <td>101</td>\n",
       "      <td>2009-01-12</td>\n",
       "    </tr>\n",
       "  </tbody>\n",
       "</table>\n",
       "</div>"
      ],
      "text/plain": [
       "   transactions  trans_date\n",
       "0             1  2009-01-03\n",
       "1            14  2009-01-09\n",
       "2            61  2009-01-10\n",
       "3            93  2009-01-11\n",
       "4           101  2009-01-12"
      ]
     },
     "execution_count": 22,
     "metadata": {},
     "output_type": "execute_result"
    }
   ],
   "source": [
    "safe_config = bigquery.QueryJobConfig(maximum_bytes_billed=10**10)\n",
    "query_job = client.query(query_with_CTE, job_config=safe_config)\n",
    "\n",
    "# API request - run the query, and convert the results to a pandas DataFrame\n",
    "transactions_by_date = query_job.to_dataframe()\n",
    "\n",
    "# Print the first five rows\n",
    "transactions_by_date.head()"
   ]
  },
  {
   "cell_type": "code",
   "execution_count": 24,
   "metadata": {},
   "outputs": [
    {
     "data": {
      "text/plain": [
       "<matplotlib.axes._subplots.AxesSubplot at 0x1103b4198>"
      ]
     },
     "execution_count": 24,
     "metadata": {},
     "output_type": "execute_result"
    },
    {
     "data": {
      "image/png": "[encoded data removed]",
      "text/plain": [
       "<Figure size 432x288 with 1 Axes>"
      ]
     },
     "metadata": {
      "needs_background": "light"
     },
     "output_type": "display_data"
    }
   ],
   "source": [
    "transactions_by_date.set_index('trans_date').plot()"
   ]
  },
  {
   "cell_type": "code",
   "execution_count": null,
   "metadata": {},
   "outputs": [],
   "source": []
  }
 ],
 "metadata": {
  "kernelspec": {
   "display_name": "Python 3",
   "language": "python",
   "name": "python3"
  },
  "language_info": {
   "codemirror_mode": {
    "name": "ipython",
    "version": 3
   },
   "file_extension": ".py",
   "mimetype": "text/x-python",
   "name": "python",
   "nbconvert_exporter": "python",
   "pygments_lexer": "ipython3",
   "version": "3.6.8"
  }
 },
 "nbformat": 4,
 "nbformat_minor": 2
}
